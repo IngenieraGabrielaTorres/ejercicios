{
 "cells": [
  {
   "cell_type": "markdown",
   "id": "cde4fd15",
   "metadata": {},
   "source": [
    "\n",
    "<img src 'https://concepto.de/wp-content/uploads/2019/07/galaxia-e1561948092846.jpghttps://concepto.de/wp-content/uploads/2019/07/galaxia-e1561948092846.jpg'>"
   ]
  },
  {
   "cell_type": "code",
   "execution_count": null,
   "id": "18b51ce5",
   "metadata": {},
   "outputs": [],
   "source": []
  },
  {
   "cell_type": "code",
   "execution_count": null,
   "id": "bf9acb9b",
   "metadata": {},
   "outputs": [],
   "source": []
  }
 ],
 "metadata": {
  "kernelspec": {
   "display_name": "Python 3 (ipykernel)",
   "language": "python",
   "name": "python3"
  },
  "language_info": {
   "codemirror_mode": {
    "name": "ipython",
    "version": 3
   },
   "file_extension": ".py",
   "mimetype": "text/x-python",
   "name": "python",
   "nbconvert_exporter": "python",
   "pygments_lexer": "ipython3",
   "version": "3.9.12"
  }
 },
 "nbformat": 4,
 "nbformat_minor": 5
}
